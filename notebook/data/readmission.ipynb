{
 "cells": [
  {
   "cell_type": "code",
   "execution_count": 1,
   "metadata": {},
   "outputs": [],
   "source": [
    "import numpy as np\n",
    "import pandas as pd\n",
    "import seaborn as sns\n",
    "import matplotlib.pyplot as plt\n",
    "%matplotlib inline\n",
    "import warnings\n",
    "warnings.filterwarnings('ignore')"
   ]
  },
  {
   "cell_type": "code",
   "execution_count": 2,
   "metadata": {},
   "outputs": [],
   "source": [
    "df = pd.read_csv('E:/GuviProject/mlproject/notebook/data/hospital_readmissions (1).csv')"
   ]
  },
  {
   "cell_type": "code",
   "execution_count": 3,
   "metadata": {},
   "outputs": [
    {
     "data": {
      "text/html": [
       "<div>\n",
       "<style scoped>\n",
       "    .dataframe tbody tr th:only-of-type {\n",
       "        vertical-align: middle;\n",
       "    }\n",
       "\n",
       "    .dataframe tbody tr th {\n",
       "        vertical-align: top;\n",
       "    }\n",
       "\n",
       "    .dataframe thead th {\n",
       "        text-align: right;\n",
       "    }\n",
       "</style>\n",
       "<table border=\"1\" class=\"dataframe\">\n",
       "  <thead>\n",
       "    <tr style=\"text-align: right;\">\n",
       "      <th></th>\n",
       "      <th>Patient_ID</th>\n",
       "      <th>Age</th>\n",
       "      <th>Gender</th>\n",
       "      <th>Admission_Type</th>\n",
       "      <th>Diagnosis</th>\n",
       "      <th>Num_Lab_Procedures</th>\n",
       "      <th>Num_Medications</th>\n",
       "      <th>Num_Outpatient_Visits</th>\n",
       "      <th>Num_Inpatient_Visits</th>\n",
       "      <th>Num_Emergency_Visits</th>\n",
       "      <th>Num_Diagnoses</th>\n",
       "      <th>A1C_Result</th>\n",
       "      <th>Readmitted</th>\n",
       "    </tr>\n",
       "  </thead>\n",
       "  <tbody>\n",
       "    <tr>\n",
       "      <th>0</th>\n",
       "      <td>1</td>\n",
       "      <td>69</td>\n",
       "      <td>Other</td>\n",
       "      <td>Emergency</td>\n",
       "      <td>Heart Disease</td>\n",
       "      <td>33</td>\n",
       "      <td>2</td>\n",
       "      <td>4</td>\n",
       "      <td>1</td>\n",
       "      <td>1</td>\n",
       "      <td>5</td>\n",
       "      <td>NaN</td>\n",
       "      <td>Yes</td>\n",
       "    </tr>\n",
       "    <tr>\n",
       "      <th>1</th>\n",
       "      <td>2</td>\n",
       "      <td>32</td>\n",
       "      <td>Female</td>\n",
       "      <td>Urgent</td>\n",
       "      <td>Diabetes</td>\n",
       "      <td>81</td>\n",
       "      <td>10</td>\n",
       "      <td>4</td>\n",
       "      <td>4</td>\n",
       "      <td>1</td>\n",
       "      <td>6</td>\n",
       "      <td>NaN</td>\n",
       "      <td>No</td>\n",
       "    </tr>\n",
       "    <tr>\n",
       "      <th>2</th>\n",
       "      <td>3</td>\n",
       "      <td>78</td>\n",
       "      <td>Female</td>\n",
       "      <td>Urgent</td>\n",
       "      <td>Heart Disease</td>\n",
       "      <td>75</td>\n",
       "      <td>29</td>\n",
       "      <td>4</td>\n",
       "      <td>0</td>\n",
       "      <td>3</td>\n",
       "      <td>5</td>\n",
       "      <td>Normal</td>\n",
       "      <td>No</td>\n",
       "    </tr>\n",
       "    <tr>\n",
       "      <th>3</th>\n",
       "      <td>4</td>\n",
       "      <td>38</td>\n",
       "      <td>Male</td>\n",
       "      <td>Elective</td>\n",
       "      <td>Diabetes</td>\n",
       "      <td>77</td>\n",
       "      <td>11</td>\n",
       "      <td>2</td>\n",
       "      <td>3</td>\n",
       "      <td>4</td>\n",
       "      <td>9</td>\n",
       "      <td>NaN</td>\n",
       "      <td>Yes</td>\n",
       "    </tr>\n",
       "    <tr>\n",
       "      <th>4</th>\n",
       "      <td>5</td>\n",
       "      <td>41</td>\n",
       "      <td>Female</td>\n",
       "      <td>Urgent</td>\n",
       "      <td>Diabetes</td>\n",
       "      <td>50</td>\n",
       "      <td>25</td>\n",
       "      <td>3</td>\n",
       "      <td>4</td>\n",
       "      <td>1</td>\n",
       "      <td>3</td>\n",
       "      <td>NaN</td>\n",
       "      <td>Yes</td>\n",
       "    </tr>\n",
       "  </tbody>\n",
       "</table>\n",
       "</div>"
      ],
      "text/plain": [
       "   Patient_ID  Age  Gender Admission_Type      Diagnosis  Num_Lab_Procedures  \\\n",
       "0           1   69   Other      Emergency  Heart Disease                  33   \n",
       "1           2   32  Female         Urgent       Diabetes                  81   \n",
       "2           3   78  Female         Urgent  Heart Disease                  75   \n",
       "3           4   38    Male       Elective       Diabetes                  77   \n",
       "4           5   41  Female         Urgent       Diabetes                  50   \n",
       "\n",
       "   Num_Medications  Num_Outpatient_Visits  Num_Inpatient_Visits  \\\n",
       "0                2                      4                     1   \n",
       "1               10                      4                     4   \n",
       "2               29                      4                     0   \n",
       "3               11                      2                     3   \n",
       "4               25                      3                     4   \n",
       "\n",
       "   Num_Emergency_Visits  Num_Diagnoses A1C_Result Readmitted  \n",
       "0                     1              5        NaN        Yes  \n",
       "1                     1              6        NaN         No  \n",
       "2                     3              5     Normal         No  \n",
       "3                     4              9        NaN        Yes  \n",
       "4                     1              3        NaN        Yes  "
      ]
     },
     "execution_count": 3,
     "metadata": {},
     "output_type": "execute_result"
    }
   ],
   "source": [
    "df.head()"
   ]
  },
  {
   "cell_type": "code",
   "execution_count": 4,
   "metadata": {},
   "outputs": [
    {
     "data": {
      "text/plain": [
       "(1000, 13)"
      ]
     },
     "execution_count": 4,
     "metadata": {},
     "output_type": "execute_result"
    }
   ],
   "source": [
    "df.shape"
   ]
  },
  {
   "cell_type": "code",
   "execution_count": 5,
   "metadata": {},
   "outputs": [
    {
     "data": {
      "text/plain": [
       "Patient_ID                 0\n",
       "Age                        0\n",
       "Gender                     0\n",
       "Admission_Type             0\n",
       "Diagnosis                  0\n",
       "Num_Lab_Procedures         0\n",
       "Num_Medications            0\n",
       "Num_Outpatient_Visits      0\n",
       "Num_Inpatient_Visits       0\n",
       "Num_Emergency_Visits       0\n",
       "Num_Diagnoses              0\n",
       "A1C_Result               434\n",
       "Readmitted                 0\n",
       "dtype: int64"
      ]
     },
     "execution_count": 5,
     "metadata": {},
     "output_type": "execute_result"
    }
   ],
   "source": [
    "df.isna().sum()"
   ]
  },
  {
   "cell_type": "code",
   "execution_count": 6,
   "metadata": {},
   "outputs": [
    {
     "data": {
      "text/plain": [
       "0"
      ]
     },
     "execution_count": 6,
     "metadata": {},
     "output_type": "execute_result"
    }
   ],
   "source": [
    "df.duplicated().sum()"
   ]
  },
  {
   "cell_type": "code",
   "execution_count": 7,
   "metadata": {},
   "outputs": [
    {
     "name": "stdout",
     "output_type": "stream",
     "text": [
      "<class 'pandas.core.frame.DataFrame'>\n",
      "RangeIndex: 1000 entries, 0 to 999\n",
      "Data columns (total 13 columns):\n",
      " #   Column                 Non-Null Count  Dtype \n",
      "---  ------                 --------------  ----- \n",
      " 0   Patient_ID             1000 non-null   int64 \n",
      " 1   Age                    1000 non-null   int64 \n",
      " 2   Gender                 1000 non-null   object\n",
      " 3   Admission_Type         1000 non-null   object\n",
      " 4   Diagnosis              1000 non-null   object\n",
      " 5   Num_Lab_Procedures     1000 non-null   int64 \n",
      " 6   Num_Medications        1000 non-null   int64 \n",
      " 7   Num_Outpatient_Visits  1000 non-null   int64 \n",
      " 8   Num_Inpatient_Visits   1000 non-null   int64 \n",
      " 9   Num_Emergency_Visits   1000 non-null   int64 \n",
      " 10  Num_Diagnoses          1000 non-null   int64 \n",
      " 11  A1C_Result             566 non-null    object\n",
      " 12  Readmitted             1000 non-null   object\n",
      "dtypes: int64(8), object(5)\n",
      "memory usage: 101.7+ KB\n"
     ]
    }
   ],
   "source": [
    "df.info()"
   ]
  },
  {
   "cell_type": "code",
   "execution_count": 8,
   "metadata": {},
   "outputs": [
    {
     "data": {
      "text/plain": [
       "Patient_ID               1000\n",
       "Age                        68\n",
       "Gender                      3\n",
       "Admission_Type              3\n",
       "Diagnosis                   4\n",
       "Num_Lab_Procedures         99\n",
       "Num_Medications            30\n",
       "Num_Outpatient_Visits       5\n",
       "Num_Inpatient_Visits        5\n",
       "Num_Emergency_Visits        5\n",
       "Num_Diagnoses               9\n",
       "A1C_Result                  2\n",
       "Readmitted                  2\n",
       "dtype: int64"
      ]
     },
     "execution_count": 8,
     "metadata": {},
     "output_type": "execute_result"
    }
   ],
   "source": [
    "df.nunique()"
   ]
  },
  {
   "cell_type": "code",
   "execution_count": 9,
   "metadata": {},
   "outputs": [
    {
     "data": {
      "text/html": [
       "<div>\n",
       "<style scoped>\n",
       "    .dataframe tbody tr th:only-of-type {\n",
       "        vertical-align: middle;\n",
       "    }\n",
       "\n",
       "    .dataframe tbody tr th {\n",
       "        vertical-align: top;\n",
       "    }\n",
       "\n",
       "    .dataframe thead th {\n",
       "        text-align: right;\n",
       "    }\n",
       "</style>\n",
       "<table border=\"1\" class=\"dataframe\">\n",
       "  <thead>\n",
       "    <tr style=\"text-align: right;\">\n",
       "      <th></th>\n",
       "      <th>Patient_ID</th>\n",
       "      <th>Age</th>\n",
       "      <th>Num_Lab_Procedures</th>\n",
       "      <th>Num_Medications</th>\n",
       "      <th>Num_Outpatient_Visits</th>\n",
       "      <th>Num_Inpatient_Visits</th>\n",
       "      <th>Num_Emergency_Visits</th>\n",
       "      <th>Num_Diagnoses</th>\n",
       "    </tr>\n",
       "  </thead>\n",
       "  <tbody>\n",
       "    <tr>\n",
       "      <th>count</th>\n",
       "      <td>1000.000000</td>\n",
       "      <td>1000.000000</td>\n",
       "      <td>1000.000000</td>\n",
       "      <td>1000.000000</td>\n",
       "      <td>1000.000000</td>\n",
       "      <td>1000.000000</td>\n",
       "      <td>1000.000000</td>\n",
       "      <td>1000.000000</td>\n",
       "    </tr>\n",
       "    <tr>\n",
       "      <th>mean</th>\n",
       "      <td>500.500000</td>\n",
       "      <td>51.665000</td>\n",
       "      <td>50.836000</td>\n",
       "      <td>15.661000</td>\n",
       "      <td>2.016000</td>\n",
       "      <td>2.019000</td>\n",
       "      <td>1.956000</td>\n",
       "      <td>5.011000</td>\n",
       "    </tr>\n",
       "    <tr>\n",
       "      <th>std</th>\n",
       "      <td>288.819436</td>\n",
       "      <td>21.989459</td>\n",
       "      <td>28.075137</td>\n",
       "      <td>8.230177</td>\n",
       "      <td>1.399894</td>\n",
       "      <td>1.416561</td>\n",
       "      <td>1.409983</td>\n",
       "      <td>2.664203</td>\n",
       "    </tr>\n",
       "    <tr>\n",
       "      <th>min</th>\n",
       "      <td>1.000000</td>\n",
       "      <td>18.000000</td>\n",
       "      <td>1.000000</td>\n",
       "      <td>1.000000</td>\n",
       "      <td>0.000000</td>\n",
       "      <td>0.000000</td>\n",
       "      <td>0.000000</td>\n",
       "      <td>1.000000</td>\n",
       "    </tr>\n",
       "    <tr>\n",
       "      <th>25%</th>\n",
       "      <td>250.750000</td>\n",
       "      <td>34.000000</td>\n",
       "      <td>27.000000</td>\n",
       "      <td>9.000000</td>\n",
       "      <td>1.000000</td>\n",
       "      <td>1.000000</td>\n",
       "      <td>1.000000</td>\n",
       "      <td>3.000000</td>\n",
       "    </tr>\n",
       "    <tr>\n",
       "      <th>50%</th>\n",
       "      <td>500.500000</td>\n",
       "      <td>50.500000</td>\n",
       "      <td>52.000000</td>\n",
       "      <td>16.000000</td>\n",
       "      <td>2.000000</td>\n",
       "      <td>2.000000</td>\n",
       "      <td>2.000000</td>\n",
       "      <td>5.000000</td>\n",
       "    </tr>\n",
       "    <tr>\n",
       "      <th>75%</th>\n",
       "      <td>750.250000</td>\n",
       "      <td>69.000000</td>\n",
       "      <td>75.000000</td>\n",
       "      <td>23.000000</td>\n",
       "      <td>3.000000</td>\n",
       "      <td>3.000000</td>\n",
       "      <td>3.000000</td>\n",
       "      <td>7.000000</td>\n",
       "    </tr>\n",
       "    <tr>\n",
       "      <th>max</th>\n",
       "      <td>1000.000000</td>\n",
       "      <td>150.000000</td>\n",
       "      <td>99.000000</td>\n",
       "      <td>35.000000</td>\n",
       "      <td>4.000000</td>\n",
       "      <td>4.000000</td>\n",
       "      <td>4.000000</td>\n",
       "      <td>9.000000</td>\n",
       "    </tr>\n",
       "  </tbody>\n",
       "</table>\n",
       "</div>"
      ],
      "text/plain": [
       "        Patient_ID          Age  Num_Lab_Procedures  Num_Medications  \\\n",
       "count  1000.000000  1000.000000         1000.000000      1000.000000   \n",
       "mean    500.500000    51.665000           50.836000        15.661000   \n",
       "std     288.819436    21.989459           28.075137         8.230177   \n",
       "min       1.000000    18.000000            1.000000         1.000000   \n",
       "25%     250.750000    34.000000           27.000000         9.000000   \n",
       "50%     500.500000    50.500000           52.000000        16.000000   \n",
       "75%     750.250000    69.000000           75.000000        23.000000   \n",
       "max    1000.000000   150.000000           99.000000        35.000000   \n",
       "\n",
       "       Num_Outpatient_Visits  Num_Inpatient_Visits  Num_Emergency_Visits  \\\n",
       "count            1000.000000           1000.000000           1000.000000   \n",
       "mean                2.016000              2.019000              1.956000   \n",
       "std                 1.399894              1.416561              1.409983   \n",
       "min                 0.000000              0.000000              0.000000   \n",
       "25%                 1.000000              1.000000              1.000000   \n",
       "50%                 2.000000              2.000000              2.000000   \n",
       "75%                 3.000000              3.000000              3.000000   \n",
       "max                 4.000000              4.000000              4.000000   \n",
       "\n",
       "       Num_Diagnoses  \n",
       "count    1000.000000  \n",
       "mean        5.011000  \n",
       "std         2.664203  \n",
       "min         1.000000  \n",
       "25%         3.000000  \n",
       "50%         5.000000  \n",
       "75%         7.000000  \n",
       "max         9.000000  "
      ]
     },
     "execution_count": 9,
     "metadata": {},
     "output_type": "execute_result"
    }
   ],
   "source": [
    "df.describe()"
   ]
  },
  {
   "cell_type": "code",
   "execution_count": 12,
   "metadata": {},
   "outputs": [
    {
     "name": "stdout",
     "output_type": "stream",
     "text": [
      "Categories in 'Gender' variable:      ['Other' 'Female' 'Male']\n",
      "Categories in 'Admission_Type' variable:   ['Emergency' 'Urgent' 'Elective']\n",
      "Categories in'Diagnosis' variable: ['Heart Disease' 'Diabetes' 'Injury' 'Infection']\n",
      "Categories in 'A1C_Result' variable:      [nan 'Normal' 'Abnormal']\n",
      "Categories in 'Readmitted' variable:      ['Yes' 'No']\n"
     ]
    }
   ],
   "source": [
    "print(\"Categories in 'Gender' variable:     \",end=\" \" )\n",
    "print(df['Gender'].unique())\n",
    "\n",
    "print(\"Categories in 'Admission_Type' variable:  \",end=\" \")\n",
    "print(df['Admission_Type'].unique())\n",
    "\n",
    "print(\"Categories in'Diagnosis' variable:\",end=\" \" )\n",
    "print(df['Diagnosis'].unique())\n",
    "\n",
    "print(\"Categories in 'A1C_Result' variable:     \",end=\" \" )\n",
    "print(df['A1C_Result'].unique())\n",
    "\n",
    "print(\"Categories in 'Readmitted' variable:     \",end=\" \" )\n",
    "print(df['Readmitted'].unique())"
   ]
  },
  {
   "cell_type": "code",
   "execution_count": 11,
   "metadata": {},
   "outputs": [
    {
     "name": "stdout",
     "output_type": "stream",
     "text": [
      "We have 8 numerical features : ['Patient_ID', 'Age', 'Num_Lab_Procedures', 'Num_Medications', 'Num_Outpatient_Visits', 'Num_Inpatient_Visits', 'Num_Emergency_Visits', 'Num_Diagnoses']\n",
      "\n",
      "We have 5 categorical features : ['Gender', 'Admission_Type', 'Diagnosis', 'A1C_Result', 'Readmitted']\n"
     ]
    }
   ],
   "source": [
    "# define numerical & categorical columns\n",
    "numeric_features = [feature for feature in df.columns if df[feature].dtype != 'O']\n",
    "categorical_features = [feature for feature in df.columns if df[feature].dtype == 'O']\n",
    "\n",
    "# print columns\n",
    "print('We have {} numerical features : {}'.format(len(numeric_features), numeric_features))\n",
    "print('\\nWe have {} categorical features : {}'.format(len(categorical_features), categorical_features))"
   ]
  },
  {
   "cell_type": "code",
   "execution_count": 17,
   "metadata": {},
   "outputs": [
    {
     "data": {
      "text/html": [
       "<div>\n",
       "<style scoped>\n",
       "    .dataframe tbody tr th:only-of-type {\n",
       "        vertical-align: middle;\n",
       "    }\n",
       "\n",
       "    .dataframe tbody tr th {\n",
       "        vertical-align: top;\n",
       "    }\n",
       "\n",
       "    .dataframe thead th {\n",
       "        text-align: right;\n",
       "    }\n",
       "</style>\n",
       "<table border=\"1\" class=\"dataframe\">\n",
       "  <thead>\n",
       "    <tr style=\"text-align: right;\">\n",
       "      <th></th>\n",
       "      <th>Patient_ID</th>\n",
       "      <th>Age</th>\n",
       "      <th>Gender</th>\n",
       "      <th>Admission_Type</th>\n",
       "      <th>Diagnosis</th>\n",
       "      <th>Num_Lab_Procedures</th>\n",
       "      <th>Num_Medications</th>\n",
       "      <th>Num_Outpatient_Visits</th>\n",
       "      <th>Num_Inpatient_Visits</th>\n",
       "      <th>Num_Emergency_Visits</th>\n",
       "      <th>Num_Diagnoses</th>\n",
       "      <th>A1C_Result</th>\n",
       "      <th>Readmitted</th>\n",
       "      <th>Total_Visits</th>\n",
       "      <th>Total_Interactions</th>\n",
       "      <th>Avg_Lab_Procedures_Per_Visit</th>\n",
       "    </tr>\n",
       "  </thead>\n",
       "  <tbody>\n",
       "    <tr>\n",
       "      <th>0</th>\n",
       "      <td>1</td>\n",
       "      <td>69</td>\n",
       "      <td>Other</td>\n",
       "      <td>Emergency</td>\n",
       "      <td>Heart Disease</td>\n",
       "      <td>33</td>\n",
       "      <td>2</td>\n",
       "      <td>4</td>\n",
       "      <td>1</td>\n",
       "      <td>1</td>\n",
       "      <td>5</td>\n",
       "      <td>NaN</td>\n",
       "      <td>Yes</td>\n",
       "      <td>6</td>\n",
       "      <td>35</td>\n",
       "      <td>5.500000</td>\n",
       "    </tr>\n",
       "    <tr>\n",
       "      <th>1</th>\n",
       "      <td>2</td>\n",
       "      <td>32</td>\n",
       "      <td>Female</td>\n",
       "      <td>Urgent</td>\n",
       "      <td>Diabetes</td>\n",
       "      <td>81</td>\n",
       "      <td>10</td>\n",
       "      <td>4</td>\n",
       "      <td>4</td>\n",
       "      <td>1</td>\n",
       "      <td>6</td>\n",
       "      <td>NaN</td>\n",
       "      <td>No</td>\n",
       "      <td>9</td>\n",
       "      <td>91</td>\n",
       "      <td>9.000000</td>\n",
       "    </tr>\n",
       "    <tr>\n",
       "      <th>2</th>\n",
       "      <td>3</td>\n",
       "      <td>78</td>\n",
       "      <td>Female</td>\n",
       "      <td>Urgent</td>\n",
       "      <td>Heart Disease</td>\n",
       "      <td>75</td>\n",
       "      <td>29</td>\n",
       "      <td>4</td>\n",
       "      <td>0</td>\n",
       "      <td>3</td>\n",
       "      <td>5</td>\n",
       "      <td>Normal</td>\n",
       "      <td>No</td>\n",
       "      <td>7</td>\n",
       "      <td>104</td>\n",
       "      <td>10.714286</td>\n",
       "    </tr>\n",
       "    <tr>\n",
       "      <th>3</th>\n",
       "      <td>4</td>\n",
       "      <td>38</td>\n",
       "      <td>Male</td>\n",
       "      <td>Elective</td>\n",
       "      <td>Diabetes</td>\n",
       "      <td>77</td>\n",
       "      <td>11</td>\n",
       "      <td>2</td>\n",
       "      <td>3</td>\n",
       "      <td>4</td>\n",
       "      <td>9</td>\n",
       "      <td>NaN</td>\n",
       "      <td>Yes</td>\n",
       "      <td>9</td>\n",
       "      <td>88</td>\n",
       "      <td>8.555556</td>\n",
       "    </tr>\n",
       "    <tr>\n",
       "      <th>4</th>\n",
       "      <td>5</td>\n",
       "      <td>41</td>\n",
       "      <td>Female</td>\n",
       "      <td>Urgent</td>\n",
       "      <td>Diabetes</td>\n",
       "      <td>50</td>\n",
       "      <td>25</td>\n",
       "      <td>3</td>\n",
       "      <td>4</td>\n",
       "      <td>1</td>\n",
       "      <td>3</td>\n",
       "      <td>NaN</td>\n",
       "      <td>Yes</td>\n",
       "      <td>8</td>\n",
       "      <td>75</td>\n",
       "      <td>6.250000</td>\n",
       "    </tr>\n",
       "  </tbody>\n",
       "</table>\n",
       "</div>"
      ],
      "text/plain": [
       "   Patient_ID  Age  Gender Admission_Type      Diagnosis  Num_Lab_Procedures  \\\n",
       "0           1   69   Other      Emergency  Heart Disease                  33   \n",
       "1           2   32  Female         Urgent       Diabetes                  81   \n",
       "2           3   78  Female         Urgent  Heart Disease                  75   \n",
       "3           4   38    Male       Elective       Diabetes                  77   \n",
       "4           5   41  Female         Urgent       Diabetes                  50   \n",
       "\n",
       "   Num_Medications  Num_Outpatient_Visits  Num_Inpatient_Visits  \\\n",
       "0                2                      4                     1   \n",
       "1               10                      4                     4   \n",
       "2               29                      4                     0   \n",
       "3               11                      2                     3   \n",
       "4               25                      3                     4   \n",
       "\n",
       "   Num_Emergency_Visits  Num_Diagnoses A1C_Result Readmitted  Total_Visits  \\\n",
       "0                     1              5        NaN        Yes             6   \n",
       "1                     1              6        NaN         No             9   \n",
       "2                     3              5     Normal         No             7   \n",
       "3                     4              9        NaN        Yes             9   \n",
       "4                     1              3        NaN        Yes             8   \n",
       "\n",
       "   Total_Interactions  Avg_Lab_Procedures_Per_Visit  \n",
       "0                  35                      5.500000  \n",
       "1                  91                      9.000000  \n",
       "2                 104                     10.714286  \n",
       "3                  88                      8.555556  \n",
       "4                  75                      6.250000  "
      ]
     },
     "execution_count": 17,
     "metadata": {},
     "output_type": "execute_result"
    }
   ],
   "source": [
    "df['Total_Visits'] = df['Num_Outpatient_Visits'] + df['Num_Inpatient_Visits'] + df['Num_Emergency_Visits']\n",
    "df['Total_Interactions'] = df['Num_Lab_Procedures'] + df['Num_Medications']\n",
    "df['Avg_Lab_Procedures_Per_Visit'] = df['Num_Lab_Procedures'] / df['Total_Visits']\n",
    "df.head()"
   ]
  },
  {
   "cell_type": "code",
   "execution_count": 24,
   "metadata": {},
   "outputs": [
    {
     "name": "stdout",
     "output_type": "stream",
     "text": [
      "Number of visits as outpatient: 1000\n",
      "Number of visits as inpatient: 1000\n",
      "Number of visits as emergency: 1000\n"
     ]
    }
   ],
   "source": [
    "outpatient_full = df[df['Num_Outpatient_Visits'] <= 50]['Avg_Lab_Procedures_Per_Visit'].count()\n",
    "inpatient_full = df[df['Num_Inpatient_Visits'] <= 50]['Avg_Lab_Procedures_Per_Visit'].count()\n",
    "emergency_full = df[df['Num_Emergency_Visits'] <= 50]['Avg_Lab_Procedures_Per_Visit'].count()\n",
    "\n",
    "print(f'Number of visits as outpatient: {outpatient_full}')\n",
    "print(f'Number of visits as inpatient: {inpatient_full}')\n",
    "print(f'Number of visits as emergency: {emergency_full}')"
   ]
  },
  {
   "cell_type": "code",
   "execution_count": 25,
   "metadata": {},
   "outputs": [
    {
     "data": {
      "image/png": "[encoded data removed]",
      "text/plain": [
       "<Figure size 1500x700 with 2 Axes>"
      ]
     },
     "metadata": {},
     "output_type": "display_data"
    }
   ],
   "source": [
    "fig, axs = plt.subplots(1, 2, figsize=(15, 7))\n",
    "plt.subplot(121)\n",
    "sns.histplot(data=df,x='Total_Visits',bins=30,kde=True,color='g')\n",
    "plt.subplot(122)\n",
    "sns.histplot(data=df,x='Total_Visits',kde=True,hue='Diagnosis')\n",
    "plt.show()"
   ]
  },
  {
   "cell_type": "code",
   "execution_count": null,
   "metadata": {},
   "outputs": [],
   "source": []
  }
 ],
 "metadata": {
  "kernelspec": {
   "display_name": "Python 3",
   "language": "python",
   "name": "python3"
  },
  "language_info": {
   "codemirror_mode": {
    "name": "ipython",
    "version": 3
   },
   "file_extension": ".py",
   "mimetype": "text/x-python",
   "name": "python",
   "nbconvert_exporter": "python",
   "pygments_lexer": "ipython3",
   "version": "3.8.19"
  }
 },
 "nbformat": 4,
 "nbformat_minor": 2
}
